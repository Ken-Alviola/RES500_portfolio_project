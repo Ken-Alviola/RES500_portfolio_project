{
 "cells": [
  {
   "cell_type": "code",
   "execution_count": 14,
   "metadata": {
    "ExecuteTime": {
     "end_time": "2021-10-06T20:25:11.557184Z",
     "start_time": "2021-10-06T20:25:11.545557Z"
    }
   },
   "outputs": [],
   "source": [
    "import warnings\n",
    "warnings.filterwarnings(\"ignore\")\n",
    "import datetime\n",
    "import pandas as pd\n",
    "import numpy as np\n",
    "import matplotlib.pyplot as plt\n",
    "import seaborn as sns\n",
    "\n",
    "\n",
    "from scipy import stats\n",
    "\n",
    "\n",
    "from jupyterthemes import jtplot\n",
    "jtplot.style()"
   ]
  },
  {
   "cell_type": "code",
   "execution_count": 11,
   "metadata": {
    "ExecuteTime": {
     "end_time": "2021-10-06T20:23:36.165569Z",
     "start_time": "2021-10-06T20:23:36.140258Z"
    }
   },
   "outputs": [],
   "source": [
    "df = pd.read_csv(\"lrcxclean.csv\")"
   ]
  },
  {
   "cell_type": "code",
   "execution_count": 12,
   "metadata": {
    "ExecuteTime": {
     "end_time": "2021-10-06T20:23:36.772224Z",
     "start_time": "2021-10-06T20:23:36.756022Z"
    }
   },
   "outputs": [
    {
     "data": {
      "text/html": [
       "<div>\n",
       "<style scoped>\n",
       "    .dataframe tbody tr th:only-of-type {\n",
       "        vertical-align: middle;\n",
       "    }\n",
       "\n",
       "    .dataframe tbody tr th {\n",
       "        vertical-align: top;\n",
       "    }\n",
       "\n",
       "    .dataframe thead th {\n",
       "        text-align: right;\n",
       "    }\n",
       "</style>\n",
       "<table border=\"1\" class=\"dataframe\">\n",
       "  <thead>\n",
       "    <tr style=\"text-align: right;\">\n",
       "      <th></th>\n",
       "      <th>date</th>\n",
       "      <th>open</th>\n",
       "      <th>high</th>\n",
       "      <th>low</th>\n",
       "      <th>close</th>\n",
       "      <th>volume</th>\n",
       "    </tr>\n",
       "  </thead>\n",
       "  <tbody>\n",
       "    <tr>\n",
       "      <th>0</th>\n",
       "      <td>1990-03-26</td>\n",
       "      <td>1.3643</td>\n",
       "      <td>1.4635</td>\n",
       "      <td>1.3128</td>\n",
       "      <td>1.4635</td>\n",
       "      <td>656100</td>\n",
       "    </tr>\n",
       "    <tr>\n",
       "      <th>1</th>\n",
       "      <td>1990-03-27</td>\n",
       "      <td>1.4119</td>\n",
       "      <td>1.5111</td>\n",
       "      <td>1.4119</td>\n",
       "      <td>1.4635</td>\n",
       "      <td>603900</td>\n",
       "    </tr>\n",
       "    <tr>\n",
       "      <th>2</th>\n",
       "      <td>1990-03-28</td>\n",
       "      <td>1.4377</td>\n",
       "      <td>1.4635</td>\n",
       "      <td>1.4119</td>\n",
       "      <td>1.4635</td>\n",
       "      <td>1009800</td>\n",
       "    </tr>\n",
       "    <tr>\n",
       "      <th>3</th>\n",
       "      <td>1990-03-29</td>\n",
       "      <td>1.4377</td>\n",
       "      <td>1.4873</td>\n",
       "      <td>1.4377</td>\n",
       "      <td>1.4377</td>\n",
       "      <td>313200</td>\n",
       "    </tr>\n",
       "    <tr>\n",
       "      <th>4</th>\n",
       "      <td>1990-03-30</td>\n",
       "      <td>1.4377</td>\n",
       "      <td>1.4635</td>\n",
       "      <td>1.4377</td>\n",
       "      <td>1.4635</td>\n",
       "      <td>453600</td>\n",
       "    </tr>\n",
       "  </tbody>\n",
       "</table>\n",
       "</div>"
      ],
      "text/plain": [
       "         date    open    high     low   close   volume\n",
       "0  1990-03-26  1.3643  1.4635  1.3128  1.4635   656100\n",
       "1  1990-03-27  1.4119  1.5111  1.4119  1.4635   603900\n",
       "2  1990-03-28  1.4377  1.4635  1.4119  1.4635  1009800\n",
       "3  1990-03-29  1.4377  1.4873  1.4377  1.4377   313200\n",
       "4  1990-03-30  1.4377  1.4635  1.4377  1.4635   453600"
      ]
     },
     "execution_count": 12,
     "metadata": {},
     "output_type": "execute_result"
    }
   ],
   "source": [
    "df.head()"
   ]
  },
  {
   "cell_type": "code",
   "execution_count": 15,
   "metadata": {
    "ExecuteTime": {
     "end_time": "2021-10-06T20:25:43.635901Z",
     "start_time": "2021-10-06T20:25:43.619126Z"
    }
   },
   "outputs": [],
   "source": [
    "df.date = pd.to_datetime(df.date, format='%Y-%m-%d')"
   ]
  },
  {
   "cell_type": "code",
   "execution_count": 18,
   "metadata": {
    "ExecuteTime": {
     "end_time": "2021-10-06T20:27:13.699497Z",
     "start_time": "2021-10-06T20:27:13.655420Z"
    }
   },
   "outputs": [
    {
     "data": {
      "text/html": [
       "<div>\n",
       "<style scoped>\n",
       "    .dataframe tbody tr th:only-of-type {\n",
       "        vertical-align: middle;\n",
       "    }\n",
       "\n",
       "    .dataframe tbody tr th {\n",
       "        vertical-align: top;\n",
       "    }\n",
       "\n",
       "    .dataframe thead th {\n",
       "        text-align: right;\n",
       "    }\n",
       "</style>\n",
       "<table border=\"1\" class=\"dataframe\">\n",
       "  <thead>\n",
       "    <tr style=\"text-align: right;\">\n",
       "      <th></th>\n",
       "      <th>open</th>\n",
       "      <th>high</th>\n",
       "      <th>low</th>\n",
       "      <th>close</th>\n",
       "      <th>volume</th>\n",
       "    </tr>\n",
       "    <tr>\n",
       "      <th>date</th>\n",
       "      <th></th>\n",
       "      <th></th>\n",
       "      <th></th>\n",
       "      <th></th>\n",
       "      <th></th>\n",
       "    </tr>\n",
       "  </thead>\n",
       "  <tbody>\n",
       "    <tr>\n",
       "      <th>1990-03-26</th>\n",
       "      <td>1.3643</td>\n",
       "      <td>1.4635</td>\n",
       "      <td>1.3128</td>\n",
       "      <td>1.4635</td>\n",
       "      <td>656100</td>\n",
       "    </tr>\n",
       "    <tr>\n",
       "      <th>1990-03-27</th>\n",
       "      <td>1.4119</td>\n",
       "      <td>1.5111</td>\n",
       "      <td>1.4119</td>\n",
       "      <td>1.4635</td>\n",
       "      <td>603900</td>\n",
       "    </tr>\n",
       "    <tr>\n",
       "      <th>1990-03-28</th>\n",
       "      <td>1.4377</td>\n",
       "      <td>1.4635</td>\n",
       "      <td>1.4119</td>\n",
       "      <td>1.4635</td>\n",
       "      <td>1009800</td>\n",
       "    </tr>\n",
       "    <tr>\n",
       "      <th>1990-03-29</th>\n",
       "      <td>1.4377</td>\n",
       "      <td>1.4873</td>\n",
       "      <td>1.4377</td>\n",
       "      <td>1.4377</td>\n",
       "      <td>313200</td>\n",
       "    </tr>\n",
       "    <tr>\n",
       "      <th>1990-03-30</th>\n",
       "      <td>1.4377</td>\n",
       "      <td>1.4635</td>\n",
       "      <td>1.4377</td>\n",
       "      <td>1.4635</td>\n",
       "      <td>453600</td>\n",
       "    </tr>\n",
       "    <tr>\n",
       "      <th>...</th>\n",
       "      <td>...</td>\n",
       "      <td>...</td>\n",
       "      <td>...</td>\n",
       "      <td>...</td>\n",
       "      <td>...</td>\n",
       "    </tr>\n",
       "    <tr>\n",
       "      <th>2021-09-29</th>\n",
       "      <td>586.1100</td>\n",
       "      <td>588.9999</td>\n",
       "      <td>566.8500</td>\n",
       "      <td>567.5100</td>\n",
       "      <td>1643969</td>\n",
       "    </tr>\n",
       "    <tr>\n",
       "      <th>2021-09-30</th>\n",
       "      <td>573.2900</td>\n",
       "      <td>577.5300</td>\n",
       "      <td>567.9275</td>\n",
       "      <td>569.1500</td>\n",
       "      <td>1081135</td>\n",
       "    </tr>\n",
       "    <tr>\n",
       "      <th>2021-10-01</th>\n",
       "      <td>571.1200</td>\n",
       "      <td>573.6500</td>\n",
       "      <td>560.6000</td>\n",
       "      <td>569.7300</td>\n",
       "      <td>1111165</td>\n",
       "    </tr>\n",
       "    <tr>\n",
       "      <th>2021-10-04</th>\n",
       "      <td>565.9700</td>\n",
       "      <td>566.5000</td>\n",
       "      <td>548.3300</td>\n",
       "      <td>550.1400</td>\n",
       "      <td>1639537</td>\n",
       "    </tr>\n",
       "    <tr>\n",
       "      <th>2021-10-05</th>\n",
       "      <td>556.6800</td>\n",
       "      <td>563.2800</td>\n",
       "      <td>550.6200</td>\n",
       "      <td>555.9000</td>\n",
       "      <td>1191096</td>\n",
       "    </tr>\n",
       "  </tbody>\n",
       "</table>\n",
       "<p>7945 rows × 5 columns</p>\n",
       "</div>"
      ],
      "text/plain": [
       "                open      high       low     close   volume\n",
       "date                                                       \n",
       "1990-03-26    1.3643    1.4635    1.3128    1.4635   656100\n",
       "1990-03-27    1.4119    1.5111    1.4119    1.4635   603900\n",
       "1990-03-28    1.4377    1.4635    1.4119    1.4635  1009800\n",
       "1990-03-29    1.4377    1.4873    1.4377    1.4377   313200\n",
       "1990-03-30    1.4377    1.4635    1.4377    1.4635   453600\n",
       "...              ...       ...       ...       ...      ...\n",
       "2021-09-29  586.1100  588.9999  566.8500  567.5100  1643969\n",
       "2021-09-30  573.2900  577.5300  567.9275  569.1500  1081135\n",
       "2021-10-01  571.1200  573.6500  560.6000  569.7300  1111165\n",
       "2021-10-04  565.9700  566.5000  548.3300  550.1400  1639537\n",
       "2021-10-05  556.6800  563.2800  550.6200  555.9000  1191096\n",
       "\n",
       "[7945 rows x 5 columns]"
      ]
     },
     "execution_count": 18,
     "metadata": {},
     "output_type": "execute_result"
    }
   ],
   "source": [
    "df.set_index('date').sort_index()"
   ]
  },
  {
   "cell_type": "code",
   "execution_count": 37,
   "metadata": {
    "ExecuteTime": {
     "end_time": "2021-10-06T20:39:07.836397Z",
     "start_time": "2021-10-06T20:39:07.812163Z"
    }
   },
   "outputs": [
    {
     "data": {
      "text/html": [
       "<div>\n",
       "<style scoped>\n",
       "    .dataframe tbody tr th:only-of-type {\n",
       "        vertical-align: middle;\n",
       "    }\n",
       "\n",
       "    .dataframe tbody tr th {\n",
       "        vertical-align: top;\n",
       "    }\n",
       "\n",
       "    .dataframe thead th {\n",
       "        text-align: right;\n",
       "    }\n",
       "</style>\n",
       "<table border=\"1\" class=\"dataframe\">\n",
       "  <thead>\n",
       "    <tr style=\"text-align: right;\">\n",
       "      <th></th>\n",
       "      <th>date</th>\n",
       "      <th>open</th>\n",
       "      <th>high</th>\n",
       "      <th>low</th>\n",
       "      <th>close</th>\n",
       "      <th>volume</th>\n",
       "    </tr>\n",
       "  </thead>\n",
       "  <tbody>\n",
       "    <tr>\n",
       "      <th>6998</th>\n",
       "      <td>2018-01-02</td>\n",
       "      <td>173.4524</td>\n",
       "      <td>177.5463</td>\n",
       "      <td>172.2533</td>\n",
       "      <td>177.3215</td>\n",
       "      <td>2037307</td>\n",
       "    </tr>\n",
       "    <tr>\n",
       "      <th>6999</th>\n",
       "      <td>2018-01-03</td>\n",
       "      <td>178.6330</td>\n",
       "      <td>181.5747</td>\n",
       "      <td>177.6400</td>\n",
       "      <td>180.3381</td>\n",
       "      <td>2583342</td>\n",
       "    </tr>\n",
       "    <tr>\n",
       "      <th>7000</th>\n",
       "      <td>2018-01-04</td>\n",
       "      <td>182.6801</td>\n",
       "      <td>184.4132</td>\n",
       "      <td>180.9470</td>\n",
       "      <td>181.1625</td>\n",
       "      <td>2227207</td>\n",
       "    </tr>\n",
       "    <tr>\n",
       "      <th>7001</th>\n",
       "      <td>2018-01-05</td>\n",
       "      <td>182.5864</td>\n",
       "      <td>184.7224</td>\n",
       "      <td>182.1649</td>\n",
       "      <td>183.9917</td>\n",
       "      <td>1712974</td>\n",
       "    </tr>\n",
       "    <tr>\n",
       "      <th>7002</th>\n",
       "      <td>2018-01-08</td>\n",
       "      <td>183.9261</td>\n",
       "      <td>186.8864</td>\n",
       "      <td>183.8511</td>\n",
       "      <td>185.3782</td>\n",
       "      <td>2762693</td>\n",
       "    </tr>\n",
       "    <tr>\n",
       "      <th>...</th>\n",
       "      <td>...</td>\n",
       "      <td>...</td>\n",
       "      <td>...</td>\n",
       "      <td>...</td>\n",
       "      <td>...</td>\n",
       "      <td>...</td>\n",
       "    </tr>\n",
       "    <tr>\n",
       "      <th>7940</th>\n",
       "      <td>2021-09-29</td>\n",
       "      <td>586.1100</td>\n",
       "      <td>588.9999</td>\n",
       "      <td>566.8500</td>\n",
       "      <td>567.5100</td>\n",
       "      <td>1643969</td>\n",
       "    </tr>\n",
       "    <tr>\n",
       "      <th>7941</th>\n",
       "      <td>2021-09-30</td>\n",
       "      <td>573.2900</td>\n",
       "      <td>577.5300</td>\n",
       "      <td>567.9275</td>\n",
       "      <td>569.1500</td>\n",
       "      <td>1081135</td>\n",
       "    </tr>\n",
       "    <tr>\n",
       "      <th>7942</th>\n",
       "      <td>2021-10-01</td>\n",
       "      <td>571.1200</td>\n",
       "      <td>573.6500</td>\n",
       "      <td>560.6000</td>\n",
       "      <td>569.7300</td>\n",
       "      <td>1111165</td>\n",
       "    </tr>\n",
       "    <tr>\n",
       "      <th>7943</th>\n",
       "      <td>2021-10-04</td>\n",
       "      <td>565.9700</td>\n",
       "      <td>566.5000</td>\n",
       "      <td>548.3300</td>\n",
       "      <td>550.1400</td>\n",
       "      <td>1639537</td>\n",
       "    </tr>\n",
       "    <tr>\n",
       "      <th>7944</th>\n",
       "      <td>2021-10-05</td>\n",
       "      <td>556.6800</td>\n",
       "      <td>563.2800</td>\n",
       "      <td>550.6200</td>\n",
       "      <td>555.9000</td>\n",
       "      <td>1191096</td>\n",
       "    </tr>\n",
       "  </tbody>\n",
       "</table>\n",
       "<p>947 rows × 6 columns</p>\n",
       "</div>"
      ],
      "text/plain": [
       "           date      open      high       low     close   volume\n",
       "6998 2018-01-02  173.4524  177.5463  172.2533  177.3215  2037307\n",
       "6999 2018-01-03  178.6330  181.5747  177.6400  180.3381  2583342\n",
       "7000 2018-01-04  182.6801  184.4132  180.9470  181.1625  2227207\n",
       "7001 2018-01-05  182.5864  184.7224  182.1649  183.9917  1712974\n",
       "7002 2018-01-08  183.9261  186.8864  183.8511  185.3782  2762693\n",
       "...         ...       ...       ...       ...       ...      ...\n",
       "7940 2021-09-29  586.1100  588.9999  566.8500  567.5100  1643969\n",
       "7941 2021-09-30  573.2900  577.5300  567.9275  569.1500  1081135\n",
       "7942 2021-10-01  571.1200  573.6500  560.6000  569.7300  1111165\n",
       "7943 2021-10-04  565.9700  566.5000  548.3300  550.1400  1639537\n",
       "7944 2021-10-05  556.6800  563.2800  550.6200  555.9000  1191096\n",
       "\n",
       "[947 rows x 6 columns]"
      ]
     },
     "execution_count": 37,
     "metadata": {},
     "output_type": "execute_result"
    }
   ],
   "source": [
    "df[df.date >= \"2017-12-31\"]"
   ]
  },
  {
   "cell_type": "code",
   "execution_count": 74,
   "metadata": {
    "ExecuteTime": {
     "end_time": "2021-10-06T21:01:58.924094Z",
     "start_time": "2021-10-06T21:01:58.895400Z"
    }
   },
   "outputs": [
    {
     "name": "stdout",
     "output_type": "stream",
     "text": [
      "<class 'pandas.core.frame.DataFrame'>\n",
      "RangeIndex: 7945 entries, 0 to 7944\n",
      "Data columns (total 6 columns):\n",
      " #   Column  Non-Null Count  Dtype         \n",
      "---  ------  --------------  -----         \n",
      " 0   date    7945 non-null   datetime64[ns]\n",
      " 1   open    7945 non-null   float64       \n",
      " 2   high    7945 non-null   float64       \n",
      " 3   low     7945 non-null   float64       \n",
      " 4   close   7945 non-null   float64       \n",
      " 5   volume  7945 non-null   int64         \n",
      "dtypes: datetime64[ns](1), float64(4), int64(1)\n",
      "memory usage: 372.5 KB\n"
     ]
    }
   ],
   "source": [
    "df.info()"
   ]
  },
  {
   "cell_type": "code",
   "execution_count": 77,
   "metadata": {
    "ExecuteTime": {
     "end_time": "2021-10-06T21:03:19.690890Z",
     "start_time": "2021-10-06T21:03:19.683583Z"
    }
   },
   "outputs": [
    {
     "data": {
      "text/plain": [
       "1990"
      ]
     },
     "execution_count": 77,
     "metadata": {},
     "output_type": "execute_result"
    }
   ],
   "source": [
    "df.date[0].year"
   ]
  },
  {
   "cell_type": "code",
   "execution_count": 38,
   "metadata": {
    "ExecuteTime": {
     "end_time": "2021-10-06T20:39:48.551752Z",
     "start_time": "2021-10-06T20:39:48.540392Z"
    }
   },
   "outputs": [],
   "source": [
    "three_year_df = df[df.date >= \"2017-12-31\"]"
   ]
  },
  {
   "cell_type": "code",
   "execution_count": 79,
   "metadata": {
    "ExecuteTime": {
     "end_time": "2021-10-06T21:05:39.571743Z",
     "start_time": "2021-10-06T21:05:39.549853Z"
    }
   },
   "outputs": [],
   "source": [
    "three_year_df['year'] = three_year_df.date.apply(lambda x: x.year)"
   ]
  },
  {
   "cell_type": "code",
   "execution_count": 80,
   "metadata": {
    "ExecuteTime": {
     "end_time": "2021-10-06T21:05:48.279773Z",
     "start_time": "2021-10-06T21:05:48.252643Z"
    }
   },
   "outputs": [
    {
     "data": {
      "text/html": [
       "<div>\n",
       "<style scoped>\n",
       "    .dataframe tbody tr th:only-of-type {\n",
       "        vertical-align: middle;\n",
       "    }\n",
       "\n",
       "    .dataframe tbody tr th {\n",
       "        vertical-align: top;\n",
       "    }\n",
       "\n",
       "    .dataframe thead th {\n",
       "        text-align: right;\n",
       "    }\n",
       "</style>\n",
       "<table border=\"1\" class=\"dataframe\">\n",
       "  <thead>\n",
       "    <tr style=\"text-align: right;\">\n",
       "      <th></th>\n",
       "      <th>date</th>\n",
       "      <th>open</th>\n",
       "      <th>high</th>\n",
       "      <th>low</th>\n",
       "      <th>close</th>\n",
       "      <th>volume</th>\n",
       "      <th>year</th>\n",
       "    </tr>\n",
       "  </thead>\n",
       "  <tbody>\n",
       "    <tr>\n",
       "      <th>6998</th>\n",
       "      <td>2018-01-02</td>\n",
       "      <td>173.4524</td>\n",
       "      <td>177.5463</td>\n",
       "      <td>172.2533</td>\n",
       "      <td>177.3215</td>\n",
       "      <td>2037307</td>\n",
       "      <td>2018</td>\n",
       "    </tr>\n",
       "    <tr>\n",
       "      <th>6999</th>\n",
       "      <td>2018-01-03</td>\n",
       "      <td>178.6330</td>\n",
       "      <td>181.5747</td>\n",
       "      <td>177.6400</td>\n",
       "      <td>180.3381</td>\n",
       "      <td>2583342</td>\n",
       "      <td>2018</td>\n",
       "    </tr>\n",
       "    <tr>\n",
       "      <th>7000</th>\n",
       "      <td>2018-01-04</td>\n",
       "      <td>182.6801</td>\n",
       "      <td>184.4132</td>\n",
       "      <td>180.9470</td>\n",
       "      <td>181.1625</td>\n",
       "      <td>2227207</td>\n",
       "      <td>2018</td>\n",
       "    </tr>\n",
       "    <tr>\n",
       "      <th>7001</th>\n",
       "      <td>2018-01-05</td>\n",
       "      <td>182.5864</td>\n",
       "      <td>184.7224</td>\n",
       "      <td>182.1649</td>\n",
       "      <td>183.9917</td>\n",
       "      <td>1712974</td>\n",
       "      <td>2018</td>\n",
       "    </tr>\n",
       "    <tr>\n",
       "      <th>7002</th>\n",
       "      <td>2018-01-08</td>\n",
       "      <td>183.9261</td>\n",
       "      <td>186.8864</td>\n",
       "      <td>183.8511</td>\n",
       "      <td>185.3782</td>\n",
       "      <td>2762693</td>\n",
       "      <td>2018</td>\n",
       "    </tr>\n",
       "    <tr>\n",
       "      <th>...</th>\n",
       "      <td>...</td>\n",
       "      <td>...</td>\n",
       "      <td>...</td>\n",
       "      <td>...</td>\n",
       "      <td>...</td>\n",
       "      <td>...</td>\n",
       "      <td>...</td>\n",
       "    </tr>\n",
       "    <tr>\n",
       "      <th>7940</th>\n",
       "      <td>2021-09-29</td>\n",
       "      <td>586.1100</td>\n",
       "      <td>588.9999</td>\n",
       "      <td>566.8500</td>\n",
       "      <td>567.5100</td>\n",
       "      <td>1643969</td>\n",
       "      <td>2021</td>\n",
       "    </tr>\n",
       "    <tr>\n",
       "      <th>7941</th>\n",
       "      <td>2021-09-30</td>\n",
       "      <td>573.2900</td>\n",
       "      <td>577.5300</td>\n",
       "      <td>567.9275</td>\n",
       "      <td>569.1500</td>\n",
       "      <td>1081135</td>\n",
       "      <td>2021</td>\n",
       "    </tr>\n",
       "    <tr>\n",
       "      <th>7942</th>\n",
       "      <td>2021-10-01</td>\n",
       "      <td>571.1200</td>\n",
       "      <td>573.6500</td>\n",
       "      <td>560.6000</td>\n",
       "      <td>569.7300</td>\n",
       "      <td>1111165</td>\n",
       "      <td>2021</td>\n",
       "    </tr>\n",
       "    <tr>\n",
       "      <th>7943</th>\n",
       "      <td>2021-10-04</td>\n",
       "      <td>565.9700</td>\n",
       "      <td>566.5000</td>\n",
       "      <td>548.3300</td>\n",
       "      <td>550.1400</td>\n",
       "      <td>1639537</td>\n",
       "      <td>2021</td>\n",
       "    </tr>\n",
       "    <tr>\n",
       "      <th>7944</th>\n",
       "      <td>2021-10-05</td>\n",
       "      <td>556.6800</td>\n",
       "      <td>563.2800</td>\n",
       "      <td>550.6200</td>\n",
       "      <td>555.9000</td>\n",
       "      <td>1191096</td>\n",
       "      <td>2021</td>\n",
       "    </tr>\n",
       "  </tbody>\n",
       "</table>\n",
       "<p>947 rows × 7 columns</p>\n",
       "</div>"
      ],
      "text/plain": [
       "           date      open      high       low     close   volume  year\n",
       "6998 2018-01-02  173.4524  177.5463  172.2533  177.3215  2037307  2018\n",
       "6999 2018-01-03  178.6330  181.5747  177.6400  180.3381  2583342  2018\n",
       "7000 2018-01-04  182.6801  184.4132  180.9470  181.1625  2227207  2018\n",
       "7001 2018-01-05  182.5864  184.7224  182.1649  183.9917  1712974  2018\n",
       "7002 2018-01-08  183.9261  186.8864  183.8511  185.3782  2762693  2018\n",
       "...         ...       ...       ...       ...       ...      ...   ...\n",
       "7940 2021-09-29  586.1100  588.9999  566.8500  567.5100  1643969  2021\n",
       "7941 2021-09-30  573.2900  577.5300  567.9275  569.1500  1081135  2021\n",
       "7942 2021-10-01  571.1200  573.6500  560.6000  569.7300  1111165  2021\n",
       "7943 2021-10-04  565.9700  566.5000  548.3300  550.1400  1639537  2021\n",
       "7944 2021-10-05  556.6800  563.2800  550.6200  555.9000  1191096  2021\n",
       "\n",
       "[947 rows x 7 columns]"
      ]
     },
     "execution_count": 80,
     "metadata": {},
     "output_type": "execute_result"
    }
   ],
   "source": [
    "three_year_df"
   ]
  },
  {
   "cell_type": "code",
   "execution_count": 85,
   "metadata": {
    "ExecuteTime": {
     "end_time": "2021-10-06T21:14:21.760938Z",
     "start_time": "2021-10-06T21:14:21.417203Z"
    },
    "scrolled": false
   },
   "outputs": [
    {
     "data": {
      "text/plain": [
       "<AxesSubplot:xlabel='date', ylabel='close'>"
      ]
     },
     "execution_count": 85,
     "metadata": {},
     "output_type": "execute_result"
    },
    {
     "data": {
      "image/png": "[encoded data removed]",
      "text/plain": [
       "<Figure size 864x576 with 1 Axes>"
      ]
     },
     "metadata": {},
     "output_type": "display_data"
    }
   ],
   "source": [
    "jtplot.style(figsize=(15,10),theme='grade3')\n",
    "sns.scatterplot(data=three_year_df,x='date',y='close',hue='year', palette='tab10')"
   ]
  },
  {
   "cell_type": "code",
   "execution_count": null,
   "metadata": {},
   "outputs": [],
   "source": [
    "#'oceans16', 'grade3', 'chesterish', 'onedork', 'monokai', 'solarizedl', 'solarizedd'."
   ]
  }
 ],
 "metadata": {
  "kernelspec": {
   "display_name": "Python 3",
   "language": "python",
   "name": "python3"
  },
  "language_info": {
   "codemirror_mode": {
    "name": "ipython",
    "version": 3
   },
   "file_extension": ".py",
   "mimetype": "text/x-python",
   "name": "python",
   "nbconvert_exporter": "python",
   "pygments_lexer": "ipython3",
   "version": "3.8.5"
  }
 },
 "nbformat": 4,
 "nbformat_minor": 4
}
